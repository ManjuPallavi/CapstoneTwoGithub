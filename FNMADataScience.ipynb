{
 "cells": [
  {
   "cell_type": "markdown",
   "id": "c44ee40c",
   "metadata": {},
   "source": [
    "import necessary pacakges"
   ]
  },
  {
   "cell_type": "code",
   "execution_count": 29,
   "id": "2a759b45",
   "metadata": {},
   "outputs": [],
   "source": [
    "import pandas as pd\n",
    "\n",
    "HEADERS = {\n",
    "    \"Acquisition\": [\n",
    "\"Loan Identifier\",\n",
    "\"Channel\",\n",
    "\"Seller Name\",\n",
    "\"Servicer Name\",\n",
    "\"Original Interest Rate\",\n",
    "\"Original UPB\",\n",
    "\"Original Loan Term\",\n",
    "\"Origination Date\",\n",
    "\"First Payment Date\",\n",
    "\"Original Loan to Value Ratio (LTV)\",\n",
    "\"Original Combined Loan to Value Ratio (CLTV)\",\n",
    "\"Number of Borrowers\",\n",
    "\"Debt-To-Income (DTI)\",\n",
    "\"Borrower Credit Score at Origination\",\n",
    "\"First Time Home Buyer Indicator\",\n",
    "\"Loan Purpose \",\n",
    "\"Property Type\",\n",
    "\"Number of Units\",\n",
    "\"Occupancy Status\",\n",
    "\"Property State\",\n",
    "\"Zip Code Short\",\n",
    "\"Mortgage Insurance Percentage\",\n",
    "\"Co-Borrower Credit Score Current\",\n",
    "\"Mortgage Insurance Type\",\n",
    "\"Relocation Mortgage Indicator\",\n",
    "\"Foreclosure Date\"        \n",
    "    ]\n",
    "}\n"
   ]
  },
  {
   "cell_type": "markdown",
   "id": "46f552f4",
   "metadata": {},
   "source": [
    "Read data "
   ]
  },
  {
   "cell_type": "code",
   "execution_count": 41,
   "id": "5a5fb0ed",
   "metadata": {},
   "outputs": [
    {
     "name": "stdout",
     "output_type": "stream",
     "text": [
      "     Loan Identifier Channel Seller Name Servicer Name  \\\n",
      "0       100023020488       R       Other         Other   \n",
      "1       100023020488       R       Other         Other   \n",
      "2       100023020488       R       Other         Other   \n",
      "3       100023020488       R       Other         Other   \n",
      "4       100023020488       R       Other         Other   \n",
      "..               ...     ...         ...           ...   \n",
      "752     102458150755       R       Other         Other   \n",
      "753     102458150755       R       Other         Other   \n",
      "754     102458150755       R       Other         Other   \n",
      "755     102458150755       R       Other         Other   \n",
      "756     102458150755       R       Other         Other   \n",
      "\n",
      "     Original Interest Rate  Original UPB  Original Loan Term  \\\n",
      "0                     5.375       55000.0                 240   \n",
      "1                     5.375       55000.0                 240   \n",
      "2                     5.375       55000.0                 240   \n",
      "3                     5.375       55000.0                 240   \n",
      "4                     5.375       55000.0                 240   \n",
      "..                      ...           ...                 ...   \n",
      "752                   4.375      148000.0                 360   \n",
      "753                   4.375      148000.0                 360   \n",
      "754                   4.375      148000.0                 360   \n",
      "755                   4.375      148000.0                 360   \n",
      "756                   4.375      148000.0                 360   \n",
      "\n",
      "     Origination Date  First Payment Date  Original Loan to Value Ratio (LTV)  \\\n",
      "0               82009              102009                                  55   \n",
      "1               82009              102009                                  55   \n",
      "2               82009              102009                                  55   \n",
      "3               82009              102009                                  55   \n",
      "4               82009              102009                                  55   \n",
      "..                ...                 ...                                 ...   \n",
      "752             72009               92009                                  71   \n",
      "753             72009               92009                                  71   \n",
      "754             72009               92009                                  71   \n",
      "755             72009               92009                                  71   \n",
      "756             72009               92009                                  71   \n",
      "\n",
      "     ...  Loan Purpose   Property Type  Number of Units  Occupancy Status  \\\n",
      "0    ...              C             SF                1                 P   \n",
      "1    ...              C             SF                1                 P   \n",
      "2    ...              C             SF                1                 P   \n",
      "3    ...              C             SF                1                 P   \n",
      "4    ...              C             SF                1                 P   \n",
      "..   ...            ...            ...              ...               ...   \n",
      "752  ...              C             SF                2                 P   \n",
      "753  ...              C             SF                2                 P   \n",
      "754  ...              C             SF                2                 P   \n",
      "755  ...              C             SF                2                 P   \n",
      "756  ...              C             SF                2                 P   \n",
      "\n",
      "    Property State Zip Code Short Mortgage Insurance Percentage  \\\n",
      "0               OH            452                           NaN   \n",
      "1               OH            452                           NaN   \n",
      "2               OH            452                           NaN   \n",
      "3               OH            452                           NaN   \n",
      "4               OH            452                           NaN   \n",
      "..             ...            ...                           ...   \n",
      "752             PR              7                           NaN   \n",
      "753             PR              7                           NaN   \n",
      "754             PR              7                           NaN   \n",
      "755             PR              7                           NaN   \n",
      "756             PR              7                           NaN   \n",
      "\n",
      "     Mortgage Insurance Type Relocation Mortgage Indicator Foreclosure Date  \n",
      "0                        NaN                             N              NaN  \n",
      "1                        NaN                             N              NaN  \n",
      "2                        NaN                             N              NaN  \n",
      "3                        NaN                             N              NaN  \n",
      "4                        NaN                             N              NaN  \n",
      "..                       ...                           ...              ...  \n",
      "752                      NaN                             N              NaN  \n",
      "753                      NaN                             N              NaN  \n",
      "754                      NaN                             N              NaN  \n",
      "755                      NaN                             N              NaN  \n",
      "756                      NaN                             N              NaN  \n",
      "\n",
      "[757 rows x 25 columns]\n"
     ]
    },
    {
     "name": "stderr",
     "output_type": "stream",
     "text": [
      "C:\\Users\\Pallavi\\AppData\\Local\\Temp\\ipykernel_19920\\578530640.py:5: SettingWithCopyWarning: \n",
      "A value is trying to be set on a copy of a slice from a DataFrame\n",
      "\n",
      "See the caveats in the documentation: https://pandas.pydata.org/pandas-docs/stable/user_guide/indexing.html#returning-a-view-versus-a-copy\n",
      "  RequiredColDf.dropna(axis = 'columns',how ='all',inplace = True)\n"
     ]
    }
   ],
   "source": [
    "RawDf = pd.read_csv('sf-loan-performance-data-sample.csv',sep='|', index_col=False,)\n",
    "#print(RawDf.head())\n",
    "\n",
    "RequiredColDf = RawDf[HEADERS['Acquisition']]\n",
    "RequiredColDf.dropna(axis = 'columns',how ='all',inplace = True)\n",
    "print(RequiredColDf)"
   ]
  },
  {
   "cell_type": "code",
   "execution_count": null,
   "id": "c55c10b8",
   "metadata": {},
   "outputs": [],
   "source": []
  }
 ],
 "metadata": {
  "kernelspec": {
   "display_name": "Python 3 (ipykernel)",
   "language": "python",
   "name": "python3"
  },
  "language_info": {
   "codemirror_mode": {
    "name": "ipython",
    "version": 3
   },
   "file_extension": ".py",
   "mimetype": "text/x-python",
   "name": "python",
   "nbconvert_exporter": "python",
   "pygments_lexer": "ipython3",
   "version": "3.9.13"
  }
 },
 "nbformat": 4,
 "nbformat_minor": 5
}
